{
 "cells": [
  {
   "cell_type": "code",
   "execution_count": null,
   "metadata": {},
   "outputs": [],
   "source": [
    "%load_ext autoreload\n",
    "%autoreload 2"
   ]
  },
  {
   "cell_type": "code",
   "execution_count": null,
   "metadata": {},
   "outputs": [],
   "source": [
    "import math\n",
    "import numpy as np\n",
    "import torch\n",
    "import torchvision.utils\n",
    "from matplotlib import pyplot as plt\n",
    "from matplotlib.colors import Normalize\n",
    "from mpl_toolkits.axes_grid1 import make_axes_locatable\n",
    "from skimage.color import rgb2gray\n",
    "from skimage.metrics import structural_similarity\n",
    "from torch import nn\n",
    "import torch.nn.functional as F\n",
    "from proj.show import imsshow\n",
    "from proj.resblock import ResBlock"
   ]
  },
  {
   "cell_type": "code",
   "execution_count": null,
   "metadata": {},
   "outputs": [],
   "source": [
    "img_recon = np.load('../data_after_prob1.npz')[\"recon\"]\n",
    "img_fully = np.load('../cine.npz')['dataset']\n",
    "mask= np.load('../data_after_prob1.npz')['mask']\n",
    "device = torch.device(\"cuda:0\" if torch.cuda.is_available() else \"cpu\")\n",
    "mask=torch.from_numpy(mask)\n",
    "k_masked = np.load('../data_after_prob1.npz')['k_masked'].astype(np.complex64)"
   ]
  },
  {
   "cell_type": "code",
   "execution_count": null,
   "metadata": {},
   "outputs": [],
   "source": [
    "#对图像进行归一化处理\n",
    "def normalize(img):\n",
    "    img = (img - img.min()) / (img.max() - img.min()+1e-8)\n",
    "    return img\n",
    "img_fully = normalize(img_fully)\n",
    "img_recon = normalize(img_recon)\n",
    "imsshow(img_fully[0],num_col=5,cmap='gray', is_colorbar=True)"
   ]
  },
  {
   "cell_type": "code",
   "execution_count": null,
   "metadata": {},
   "outputs": [],
   "source": [
    "#将200个数据分割成5:1:2的训练（125）、验证（25）、测试集（50）\n",
    "train_label = img_fully[:125]\n",
    "train_data = img_recon[:125]\n",
    "val_label = img_fully[125:150]\n",
    "val_data = img_recon[125:150]\n",
    "test_label = img_fully[150:]\n",
    "test_data = img_recon[150:]\n",
    "train_k_masked = k_masked[:125]\n",
    "val_k_masked = k_masked[125:150]\n",
    "test_k_masked = k_masked[150:]\n"
   ]
  },
  {
   "cell_type": "code",
   "execution_count": null,
   "metadata": {},
   "outputs": [],
   "source": [
    "#把numpy数组转变成torch类型，构建loader\n",
    "train_data = torch.from_numpy(train_data).float()\n",
    "train_label = torch.from_numpy(train_label).float()\n",
    "val_data = torch.from_numpy(val_data).float()\n",
    "val_label = torch.from_numpy(val_label).float()\n",
    "test_data = torch.from_numpy(test_data).float()\n",
    "test_label = torch.from_numpy(test_label).float()\n",
    "train_k_masked = torch.from_numpy(train_k_masked)\n",
    "val_k_masked = torch.from_numpy(val_k_masked)\n",
    "test_k_masked = torch.from_numpy(test_k_masked)\n",
    "train = torch.utils.data.DataLoader(torch.utils.data.TensorDataset(train_data, train_label, train_k_masked), batch_size=5, shuffle=True)\n",
    "val = torch.utils.data.DataLoader(torch.utils.data.TensorDataset(val_data, val_label, val_k_masked), batch_size=5, shuffle=True)\n",
    "test = torch.utils.data.DataLoader(torch.utils.data.TensorDataset(test_data, test_label, test_k_masked), batch_size=5, shuffle=True)"
   ]
  },
  {
   "cell_type": "code",
   "execution_count": null,
   "metadata": {},
   "outputs": [],
   "source": [
    "class ResBlock_Mini(nn.Module):\n",
    "    def __init__(self):\n",
    "        super(ResBlock_Mini, self).__init__()\n",
    "        self.conv1 = nn.Conv3d(1, 16, kernel_size=3, padding=1) \n",
    "        self.pool = nn.MaxPool3d(2, 2)\n",
    "        self.conv2 = nn.Conv3d(16, 32, kernel_size=3, padding=1) \n",
    "        self.conv7 = nn.Conv3d(32, 16, kernel_size=3, padding=1)\n",
    "        self.conv8 = nn.Conv3d(16, 1, kernel_size=3, padding=1)\n",
    "        self.up = nn.Upsample(scale_factor=2, mode='trilinear', align_corners=True)\n",
    "\n",
    "    def forward(self, x):\n",
    "        identity = x\n",
    "        out = F.relu(self.conv1(x))\n",
    "        out = F.relu(self.conv2(out))\n",
    "        out = F.relu(self.conv7(out))\n",
    "        out = self.conv8(out)\n",
    "        out += identity\n",
    "        return out\n"
   ]
  },
  {
   "cell_type": "code",
   "execution_count": null,
   "metadata": {},
   "outputs": [],
   "source": [
    "#傅里叶变换(tensor)\n",
    "def fft2c(img):\n",
    "    return torch.fft.fftn(img, dim=(-2, -1))\n",
    "#傅里叶逆变换\n",
    "def ifft2c(img):\n",
    "    return torch.fft.ifftn(img, dim=(-2, -1))"
   ]
  },
  {
   "cell_type": "code",
   "execution_count": null,
   "metadata": {},
   "outputs": [],
   "source": [
    "class DataConsistencyLayer(nn.Module):\n",
    "    def __init__(self, mask,lambda_value=0.05):\n",
    "        super(DataConsistencyLayer, self).__init__()\n",
    "        self.mask = mask\n",
    "        # λ可以是固定的也可以是可训练的参数\n",
    "        #将其定义为可训练的参数最后会学习到0......\n",
    "        #self.lambda_value = nn.Parameter(torch.tensor(lambda_value))\n",
    "        self.lambda_value = lambda_value\n",
    "    def print_lambda(self):\n",
    "        print(self.lambda_value)\n",
    "    def forward(self, cnn_output,original_kspace):\n",
    "        cnn_output_in_kspace = fft2c(cnn_output)\n",
    "        mask = self.mask.repeat(5,1,1,1,1)\n",
    "        cnn_output_in_kspace[mask==1]=(cnn_output_in_kspace[mask==1]+original_kspace[mask==1]*self.lambda_value)/ \\\n",
    "                                                (1+self.lambda_value)\n",
    "        consistent_output = ifft2c(cnn_output_in_kspace)\n",
    "        consistent_output = consistent_output.abs()\n",
    "        return consistent_output"
   ]
  },
  {
   "cell_type": "code",
   "execution_count": null,
   "metadata": {},
   "outputs": [],
   "source": [
    "class CascadingModel_with_multi_layer(nn.Module):\n",
    "    def __init__(self, nn1,dc):\n",
    "        super(CascadingModel_with_multi_layer, self).__init__()\n",
    "        #根据迭代层数，增加网络和数据一致性层\n",
    "        self.denoising_network1 =  nn1\n",
    "        #self.denoising_network2 =  nn2\n",
    "        #self.denoising_network3 =  nn3\n",
    "\n",
    "        self.data_consistency_layer1 =  dc\n",
    "        #self.data_consistency_layer2 =  dc\n",
    "        #self.data_consistency_layer3 =  dc\n",
    "        \n",
    "    \n",
    "    def forward(self, x, k_masked):\n",
    "        denoised_image1 = self.denoising_network1(x)\n",
    "        consistent_output1 = self.data_consistency_layer1(denoised_image1,k_masked)\n",
    "        #denoised_image2 = self.denoising_network2(consistent_output1)\n",
    "        #consistent_output2 = self.data_consistency_layer2(denoised_image2,k_masked)\n",
    "        #denoised_image3 = self.denoising_network3(consistent_output2)\n",
    "        #consistent_output3 = self.data_consistency_layer3(denoised_image3,k_masked)\n",
    "        #return consistent_output3\n",
    "        #return consistent_output2\n",
    "        return consistent_output1"
   ]
  },
  {
   "cell_type": "code",
   "execution_count": null,
   "metadata": {},
   "outputs": [],
   "source": [
    "mask=mask.to(device)\n",
    "denoising_net1 = ResBlock_Mini().to(device)\n",
    "#denoising_net2 = ResBlock_Mini().to(device)\n",
    "#denoising_net3 = ResBlock_Mini().to(device)\n",
    "data_consistency_layer = DataConsistencyLayer(mask).to(device)\n",
    "model = CascadingModel_with_multi_layer(denoising_net1,data_consistency_layer).to(device)\n",
    "criterion = nn.MSELoss()\n",
    "optimizer = torch.optim.Adam(model.parameters(),lr=0.001)\n",
    "num_epochs = 100\n",
    "PSNR=[]\n",
    "SSIM=[]\n",
    "loss_train=[]\n",
    "loss_val=[]\n",
    "for epoch in range(num_epochs):\n",
    "    print(f\"Epoch {epoch + 1}\")\n",
    "    loss_tmp=0.0\n",
    "    for i, data in enumerate(train, 0):\n",
    "        data[0]=data[0].reshape(5,1,20,192,192)\n",
    "        data[1]=data[1].reshape(5,1,20,192,192)\n",
    "        data[2]=data[2].reshape(5,1,20,192,192)\n",
    "        inputs, labels, kmask=  data[0].to(device), data[1].to(device), data[2].to(device)\n",
    "        optimizer.zero_grad()\n",
    "        outputs = model(inputs, kmask)\n",
    "        loss = criterion(outputs, labels)\n",
    "        loss.backward()\n",
    "        optimizer.step()\n",
    "        loss_tmp+=loss\n",
    "    loss_train.append(loss_tmp/len(train))\n",
    "    with torch.no_grad():\n",
    "        val_loss = 0.0\n",
    "        for i, data in enumerate(val, 0):\n",
    "            data[0]=data[0].reshape(5,1,20,192,192)\n",
    "            data[1]=data[1].reshape(5,1,20,192,192)\n",
    "            data[2]=data[2].reshape(5,1,20,192,192)\n",
    "            inputs, labels ,kmask   =  data[0].to(device), data[1].to(device), data[2].to(device)\n",
    "            outputs = model(inputs, kmask)\n",
    "            val_loss +=criterion(outputs, labels).item()+1e-10\n",
    "        loss_val.append(val_loss/len(val))\n",
    "    if (epoch+1) % 5 == 0:\n",
    "        with torch.no_grad():\n",
    "            val_loss = 0.0\n",
    "            val_ssim = 0.0\n",
    "            for i, data in enumerate(val, 0):\n",
    "                data[0]=data[0].reshape(5,1,20,192,192)\n",
    "                data[1]=data[1].reshape(5,1,20,192,192)\n",
    "                data[2]=data[2].reshape(5,1,20,192,192)\n",
    "                inputs, labels, kmask=  data[0].to(device), data[1].to(device), data[2].to(device)\n",
    "                outputs = model(inputs, kmask)\n",
    "                val_loss += 20 * math.log10(1) - 10 * math.log10(criterion(outputs, labels).item()+1e-5)\n",
    "                for j in range(5):\n",
    "                    val_ssim += structural_similarity(outputs[j][0].cpu().numpy(), labels[j][0].cpu().numpy())\n",
    "            print(f\"Validation PSNR: {val_loss / len(val)}\")\n",
    "            print(f\"Validation SSIM: {val_ssim / len(val) / 5}\")\n",
    "            PSNR.append(val_loss / len(val))\n",
    "            SSIM.append(val_ssim / len(val) / 5)"
   ]
  },
  {
   "cell_type": "code",
   "execution_count": null,
   "metadata": {},
   "outputs": [],
   "source": [
    "name=\"bonus_resblock_32conv_noupdown_100epoch_withcascade_0times_new\"\n",
    "problem=\"problem5\"\n",
    "torch.save(model,f\".\\\\data\\\\{problem}\\\\{name}.pth\")\n",
    "PSNR=torch.tensor(PSNR)\n",
    "torch.save(PSNR,f\".\\\\data\\\\{problem}\\\\{name}_PSNR.pth\")\n",
    "SSIM=torch.tensor(SSIM)\n",
    "torch.save(SSIM,f\".\\\\data\\\\{problem}\\\\{name}_SSIM.pth\")\n",
    "loss_val=torch.tensor(loss_val)\n",
    "torch.save(loss_val,f\".\\\\data\\\\{problem}\\\\{name}_loss_val.pth\")\n",
    "loss_train=torch.tensor(loss_train)\n",
    "torch.save(loss_train,f\".\\\\data\\\\{problem}\\\\{name}_loss_train.pth\")"
   ]
  },
  {
   "cell_type": "code",
   "execution_count": null,
   "metadata": {},
   "outputs": [],
   "source": [
    "inputs, labels, kmask=  data[0].to(device), data[1].to(device), data[2].to(device)\n",
    "outputs = model(inputs, kmask)\n",
    "inp=inputs.cpu().detach().numpy()\n",
    "out=outputs.cpu().detach().numpy()\n",
    "lab=labels.cpu().detach().numpy()\n",
    "imsshow (inp[0].reshape(20,192,192),num_col=5,cmap='gray', is_colorbar=True,titles=[\"input\"]*20)\n",
    "imsshow( out[0].reshape(20,192,192),num_col=5,cmap='gray', is_colorbar=True,titles=[\"output\"]*20)\n",
    "imsshow(lab[0].reshape(20,192,192),num_col=5,cmap='gray', is_colorbar=True,titles=[\"label\"]*20)"
   ]
  },
  {
   "cell_type": "code",
   "execution_count": null,
   "metadata": {},
   "outputs": [],
   "source": [
    "#输出测试集的PSNR和SSIM的平均值和标准差\n",
    "model=torch.load(\"resblock_32conv_noupdown_100epoch.pth\")\n",
    "with torch.no_grad():\n",
    "    #print(\"lambda:\",model.data_consistency_layer.print_lambda())\n",
    "    test_loss = []\n",
    "    test_ssim = []\n",
    "    for i, data in enumerate(test, 0):\n",
    "        data[0]=data[0].reshape(5,1,20,192,192)\n",
    "        data[1]=data[1].reshape(5,1,20,192,192)\n",
    "        inputs, labels=  data[0].to(device), data[1].to(device)\n",
    "        outputs = model(inputs)\n",
    "        #20 * math.log10(max_intensity) - 10 * np.log10(compute_mse(reconstructed_im, target_im) + eps)\n",
    "        test_loss .append( 20 * math.log10(1) - 10 * math.log10(criterion(outputs, labels).item()+1e-5))\n",
    "        for j in range(5):\n",
    "            test_ssim .append( structural_similarity(outputs[j][0].cpu().numpy(), labels[j][0].cpu().numpy()))\n",
    "    print(f\"Mean Test PSNR after Reconstruction: {sum(test_loss) / len(test_loss)}\")\n",
    "    print(f\"Std Test PSNR after Reconstruction: {np.std(test_loss)}\")\n",
    "    print(\"------------------------------------------------------------\")\n",
    "    print(f\"Mean Test SSIM after Reconstruction: {sum(test_ssim) / len(test_ssim)}\")\n",
    "    print(f\"Std Test SSIM after Reconstruction: {np.std(test_ssim)}\")\n",
    "    #print(f\"Validation PSNR: {test_loss / len(test)}\")\n",
    "    #print(f\"Validation SSIM: {test_ssim / len(test) / 5}\")"
   ]
  },
  {
   "cell_type": "code",
   "execution_count": null,
   "metadata": {},
   "outputs": [],
   "source": [
    "#显示训练集的第一个数据\n",
    "inputs, labels = test_data[0], test_label[0]\n",
    "inputs=inputs.reshape(1,1,20,192,192)\n",
    "labels=labels.reshape(1,1,20,192,192)\n",
    "outputs = model(inputs.to(device))\n",
    "outputs = outputs.cpu().detach().numpy()\n",
    "outputs = outputs.reshape(1,20,192,192)\n",
    "#input\n",
    "imsshow (inputs[0].reshape(20,192,192),num_col=5,cmap='gray', is_colorbar=True,titles=[\"input\"]*20)\n",
    "imsshow(outputs[0],num_col=5,cmap='gray', is_colorbar=True,titles=[\"output\"]*20)\n",
    "imsshow(labels[0].reshape(20,192,192),num_col=5,cmap='gray', is_colorbar=True,titles=[\"label\"]*20)"
   ]
  }
 ],
 "metadata": {
  "kernelspec": {
   "display_name": "Python 3",
   "language": "python",
   "name": "python3"
  },
  "language_info": {
   "codemirror_mode": {
    "name": "ipython",
    "version": 3
   },
   "file_extension": ".py",
   "mimetype": "text/x-python",
   "name": "python",
   "nbconvert_exporter": "python",
   "pygments_lexer": "ipython3",
   "version": "3.8.19"
  }
 },
 "nbformat": 4,
 "nbformat_minor": 2
}
