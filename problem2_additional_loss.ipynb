{
 "cells": [
  {
   "cell_type": "code",
   "execution_count": 1,
   "metadata": {},
   "outputs": [],
   "source": [
    "%load_ext autoreload\n",
    "%autoreload 2"
   ]
  },
  {
   "cell_type": "code",
   "execution_count": 2,
   "metadata": {},
   "outputs": [],
   "source": [
    "import math\n",
    "import numpy as np\n",
    "import torch\n",
    "import torchvision.utils\n",
    "from matplotlib import pyplot as plt\n",
    "from matplotlib.colors import Normalize\n",
    "from mpl_toolkits.axes_grid1 import make_axes_locatable\n",
    "from skimage.color import rgb2gray\n",
    "from skimage.metrics import structural_similarity\n",
    "from torch import nn\n",
    "import torch.nn.functional as F\n",
    "from proj.show import imsshow\n",
    "from proj.resblock import ResBlock"
   ]
  },
  {
   "cell_type": "markdown",
   "metadata": {},
   "source": [
    "## 读取第一题的数据并分隔"
   ]
  },
  {
   "cell_type": "code",
   "execution_count": 3,
   "metadata": {},
   "outputs": [],
   "source": [
    "img_recon = np.load('data/data_after_prob1.npz')[\"recon\"]\n",
    "img_fully = np.load('data/cine.npz')['dataset']\n",
    "mask= np.load('data/data_after_prob1.npz')['mask']"
   ]
  },
  {
   "cell_type": "code",
   "execution_count": 4,
   "metadata": {},
   "outputs": [],
   "source": [
    "# normalize the images\n",
    "def normalize(img):\n",
    "    img = (img - img.min()) / (img.max() - img.min()+1e-8)\n",
    "    return img\n",
    "img_fully = normalize(img_fully)\n",
    "img_recon = normalize(img_recon)\n",
    "#imsshow(img_fully[0],num_col=5,cmap='gray', is_colorbar=True)"
   ]
  },
  {
   "cell_type": "code",
   "execution_count": 5,
   "metadata": {},
   "outputs": [
    {
     "name": "stdout",
     "output_type": "stream",
     "text": [
      "(125, 20, 192, 192) (125, 20, 192, 192)\n"
     ]
    }
   ],
   "source": [
    "# split the 200 data into 5:1:2 train(125), val(25), test(50)\n",
    "train_label = img_fully[:125]\n",
    "train_data = img_recon[:125]\n",
    "#train_label = np.concatenate([train_label, np.rot90(train_label, 1, axes=(2, 3))])\n",
    "#train_label = np.concatenate([train_label, np.rot90(train_label, 2, axes=(2, 3))])\n",
    "#train_data = np.concatenate([train_data, np.rot90(train_data, 1, axes=(2, 3))])\n",
    "#train_data = np.concatenate([train_data, np.rot90(train_data, 2, axes=(2, 3))])\n",
    "print(train_label.shape,train_data.shape)\n",
    "val_label = img_fully[125:150]\n",
    "val_data = img_recon[125:150]\n",
    "test_label = img_fully[150:]\n",
    "test_data = img_recon[150:]"
   ]
  },
  {
   "cell_type": "code",
   "execution_count": 6,
   "metadata": {},
   "outputs": [],
   "source": [
    "# convert the numpy array to torch tensor\n",
    "train_data = torch.from_numpy(train_data).float()\n",
    "train_label = torch.from_numpy(train_label).float()\n",
    "val_data = torch.from_numpy(val_data).float()\n",
    "val_label = torch.from_numpy(val_label).float()\n",
    "test_data = torch.from_numpy(test_data).float()\n",
    "test_label = torch.from_numpy(test_label).float()\n",
    "train = torch.utils.data.DataLoader(torch.utils.data.TensorDataset(train_data, train_label), batch_size=5, shuffle=True)\n",
    "val = torch.utils.data.DataLoader(torch.utils.data.TensorDataset(val_data, val_label), batch_size=5, shuffle=True)\n",
    "test = torch.utils.data.DataLoader(torch.utils.data.TensorDataset(test_data, test_label), batch_size=5, shuffle=True)"
   ]
  },
  {
   "cell_type": "code",
   "execution_count": 7,
   "metadata": {},
   "outputs": [],
   "source": [
    "#简单模型\n",
    "class ResBlock_Mini(nn.Module):\n",
    "    def __init__(self):\n",
    "        super(ResBlock_Mini, self).__init__()\n",
    "        self.conv1 = nn.Conv3d(1, 16, kernel_size=3, padding=1) # 输出维度: (16, 20, 192, 192)\n",
    "        self.conv2 = nn.Conv3d(16, 32, kernel_size=3, padding=1) # 输出维度: (32, 10, 96, 96)\n",
    "        self.conv7 = nn.Conv3d(32, 16, kernel_size=3, padding=1)\n",
    "        self.conv8 = nn.Conv3d(16, 1, kernel_size=3, padding=1)\n",
    "    def forward(self, x):\n",
    "        identity = x\n",
    "        out = F.relu(self.conv1(x))\n",
    "        out = F.relu(self.conv2(out))\n",
    "        out = F.relu(self.conv7(out))\n",
    "        out = self.conv8(out)\n",
    "        out += identity\n",
    "        return out"
   ]
  },
  {
   "cell_type": "code",
   "execution_count": 8,
   "metadata": {},
   "outputs": [
    {
     "name": "stdout",
     "output_type": "stream",
     "text": [
      "Training on cuda:0\n",
      "Epoch 1\n"
     ]
    },
    {
     "ename": "KeyboardInterrupt",
     "evalue": "",
     "output_type": "error",
     "traceback": [
      "\u001b[0;31m---------------------------------------------------------------------------\u001b[0m",
      "\u001b[0;31mKeyboardInterrupt\u001b[0m                         Traceback (most recent call last)",
      "Cell \u001b[0;32mIn[8], line 30\u001b[0m\n\u001b[1;32m     28\u001b[0m inputs, labels \u001b[38;5;241m=\u001b[39m  data[\u001b[38;5;241m0\u001b[39m]\u001b[38;5;241m.\u001b[39mto(device), data[\u001b[38;5;241m1\u001b[39m]\u001b[38;5;241m.\u001b[39mto(device)\n\u001b[1;32m     29\u001b[0m optimizer\u001b[38;5;241m.\u001b[39mzero_grad()\n\u001b[0;32m---> 30\u001b[0m outputs \u001b[38;5;241m=\u001b[39m \u001b[43mmodel\u001b[49m\u001b[43m(\u001b[49m\u001b[43minputs\u001b[49m\u001b[43m)\u001b[49m\n\u001b[1;32m     31\u001b[0m \u001b[38;5;28;01mif\u001b[39;00m epoch \u001b[38;5;241m>\u001b[39m edge_loss_start:\n\u001b[1;32m     32\u001b[0m     loss \u001b[38;5;241m=\u001b[39m criterion(outputs, labels) \u001b[38;5;241m+\u001b[39m a \u001b[38;5;241m*\u001b[39m edge_loss(outputs, labels)\n",
      "File \u001b[0;32m~/miniconda3/envs/torch/lib/python3.9/site-packages/torch/nn/modules/module.py:1130\u001b[0m, in \u001b[0;36mModule._call_impl\u001b[0;34m(self, *input, **kwargs)\u001b[0m\n\u001b[1;32m   1126\u001b[0m \u001b[38;5;66;03m# If we don't have any hooks, we want to skip the rest of the logic in\u001b[39;00m\n\u001b[1;32m   1127\u001b[0m \u001b[38;5;66;03m# this function, and just call forward.\u001b[39;00m\n\u001b[1;32m   1128\u001b[0m \u001b[38;5;28;01mif\u001b[39;00m \u001b[38;5;129;01mnot\u001b[39;00m (\u001b[38;5;28mself\u001b[39m\u001b[38;5;241m.\u001b[39m_backward_hooks \u001b[38;5;129;01mor\u001b[39;00m \u001b[38;5;28mself\u001b[39m\u001b[38;5;241m.\u001b[39m_forward_hooks \u001b[38;5;129;01mor\u001b[39;00m \u001b[38;5;28mself\u001b[39m\u001b[38;5;241m.\u001b[39m_forward_pre_hooks \u001b[38;5;129;01mor\u001b[39;00m _global_backward_hooks\n\u001b[1;32m   1129\u001b[0m         \u001b[38;5;129;01mor\u001b[39;00m _global_forward_hooks \u001b[38;5;129;01mor\u001b[39;00m _global_forward_pre_hooks):\n\u001b[0;32m-> 1130\u001b[0m     \u001b[38;5;28;01mreturn\u001b[39;00m \u001b[43mforward_call\u001b[49m\u001b[43m(\u001b[49m\u001b[38;5;241;43m*\u001b[39;49m\u001b[38;5;28;43minput\u001b[39;49m\u001b[43m,\u001b[49m\u001b[43m \u001b[49m\u001b[38;5;241;43m*\u001b[39;49m\u001b[38;5;241;43m*\u001b[39;49m\u001b[43mkwargs\u001b[49m\u001b[43m)\u001b[49m\n\u001b[1;32m   1131\u001b[0m \u001b[38;5;66;03m# Do not call functions when jit is used\u001b[39;00m\n\u001b[1;32m   1132\u001b[0m full_backward_hooks, non_full_backward_hooks \u001b[38;5;241m=\u001b[39m [], []\n",
      "File \u001b[0;32m/data/new_disk4/shenzhh/AI-for-medical-image-proj1/proj/resblock.py:19\u001b[0m, in \u001b[0;36mResBlock.forward\u001b[0;34m(self, x)\u001b[0m\n\u001b[1;32m     17\u001b[0m \u001b[38;5;28;01mdef\u001b[39;00m \u001b[38;5;21mforward\u001b[39m(\u001b[38;5;28mself\u001b[39m, x):\n\u001b[1;32m     18\u001b[0m     identity \u001b[38;5;241m=\u001b[39m x\n\u001b[0;32m---> 19\u001b[0m     out \u001b[38;5;241m=\u001b[39m F\u001b[38;5;241m.\u001b[39mrelu(\u001b[38;5;28;43mself\u001b[39;49m\u001b[38;5;241;43m.\u001b[39;49m\u001b[43mconv1\u001b[49m\u001b[43m(\u001b[49m\u001b[43mx\u001b[49m\u001b[43m)\u001b[49m)\n\u001b[1;32m     20\u001b[0m     out \u001b[38;5;241m=\u001b[39m \u001b[38;5;28mself\u001b[39m\u001b[38;5;241m.\u001b[39mpool(out)\n\u001b[1;32m     21\u001b[0m     out \u001b[38;5;241m=\u001b[39m F\u001b[38;5;241m.\u001b[39mrelu(\u001b[38;5;28mself\u001b[39m\u001b[38;5;241m.\u001b[39mconv2(out))\n",
      "File \u001b[0;32m~/miniconda3/envs/torch/lib/python3.9/site-packages/torch/nn/modules/module.py:1130\u001b[0m, in \u001b[0;36mModule._call_impl\u001b[0;34m(self, *input, **kwargs)\u001b[0m\n\u001b[1;32m   1126\u001b[0m \u001b[38;5;66;03m# If we don't have any hooks, we want to skip the rest of the logic in\u001b[39;00m\n\u001b[1;32m   1127\u001b[0m \u001b[38;5;66;03m# this function, and just call forward.\u001b[39;00m\n\u001b[1;32m   1128\u001b[0m \u001b[38;5;28;01mif\u001b[39;00m \u001b[38;5;129;01mnot\u001b[39;00m (\u001b[38;5;28mself\u001b[39m\u001b[38;5;241m.\u001b[39m_backward_hooks \u001b[38;5;129;01mor\u001b[39;00m \u001b[38;5;28mself\u001b[39m\u001b[38;5;241m.\u001b[39m_forward_hooks \u001b[38;5;129;01mor\u001b[39;00m \u001b[38;5;28mself\u001b[39m\u001b[38;5;241m.\u001b[39m_forward_pre_hooks \u001b[38;5;129;01mor\u001b[39;00m _global_backward_hooks\n\u001b[1;32m   1129\u001b[0m         \u001b[38;5;129;01mor\u001b[39;00m _global_forward_hooks \u001b[38;5;129;01mor\u001b[39;00m _global_forward_pre_hooks):\n\u001b[0;32m-> 1130\u001b[0m     \u001b[38;5;28;01mreturn\u001b[39;00m \u001b[43mforward_call\u001b[49m\u001b[43m(\u001b[49m\u001b[38;5;241;43m*\u001b[39;49m\u001b[38;5;28;43minput\u001b[39;49m\u001b[43m,\u001b[49m\u001b[43m \u001b[49m\u001b[38;5;241;43m*\u001b[39;49m\u001b[38;5;241;43m*\u001b[39;49m\u001b[43mkwargs\u001b[49m\u001b[43m)\u001b[49m\n\u001b[1;32m   1131\u001b[0m \u001b[38;5;66;03m# Do not call functions when jit is used\u001b[39;00m\n\u001b[1;32m   1132\u001b[0m full_backward_hooks, non_full_backward_hooks \u001b[38;5;241m=\u001b[39m [], []\n",
      "File \u001b[0;32m~/miniconda3/envs/torch/lib/python3.9/site-packages/torch/nn/modules/conv.py:607\u001b[0m, in \u001b[0;36mConv3d.forward\u001b[0;34m(self, input)\u001b[0m\n\u001b[1;32m    606\u001b[0m \u001b[38;5;28;01mdef\u001b[39;00m \u001b[38;5;21mforward\u001b[39m(\u001b[38;5;28mself\u001b[39m, \u001b[38;5;28minput\u001b[39m: Tensor) \u001b[38;5;241m-\u001b[39m\u001b[38;5;241m>\u001b[39m Tensor:\n\u001b[0;32m--> 607\u001b[0m     \u001b[38;5;28;01mreturn\u001b[39;00m \u001b[38;5;28;43mself\u001b[39;49m\u001b[38;5;241;43m.\u001b[39;49m\u001b[43m_conv_forward\u001b[49m\u001b[43m(\u001b[49m\u001b[38;5;28;43minput\u001b[39;49m\u001b[43m,\u001b[49m\u001b[43m \u001b[49m\u001b[38;5;28;43mself\u001b[39;49m\u001b[38;5;241;43m.\u001b[39;49m\u001b[43mweight\u001b[49m\u001b[43m,\u001b[49m\u001b[43m \u001b[49m\u001b[38;5;28;43mself\u001b[39;49m\u001b[38;5;241;43m.\u001b[39;49m\u001b[43mbias\u001b[49m\u001b[43m)\u001b[49m\n",
      "File \u001b[0;32m~/miniconda3/envs/torch/lib/python3.9/site-packages/torch/nn/modules/conv.py:602\u001b[0m, in \u001b[0;36mConv3d._conv_forward\u001b[0;34m(self, input, weight, bias)\u001b[0m\n\u001b[1;32m    590\u001b[0m \u001b[38;5;28;01mif\u001b[39;00m \u001b[38;5;28mself\u001b[39m\u001b[38;5;241m.\u001b[39mpadding_mode \u001b[38;5;241m!=\u001b[39m \u001b[38;5;124m\"\u001b[39m\u001b[38;5;124mzeros\u001b[39m\u001b[38;5;124m\"\u001b[39m:\n\u001b[1;32m    591\u001b[0m     \u001b[38;5;28;01mreturn\u001b[39;00m F\u001b[38;5;241m.\u001b[39mconv3d(\n\u001b[1;32m    592\u001b[0m         F\u001b[38;5;241m.\u001b[39mpad(\n\u001b[1;32m    593\u001b[0m             \u001b[38;5;28minput\u001b[39m, \u001b[38;5;28mself\u001b[39m\u001b[38;5;241m.\u001b[39m_reversed_padding_repeated_twice, mode\u001b[38;5;241m=\u001b[39m\u001b[38;5;28mself\u001b[39m\u001b[38;5;241m.\u001b[39mpadding_mode\n\u001b[0;32m   (...)\u001b[0m\n\u001b[1;32m    600\u001b[0m         \u001b[38;5;28mself\u001b[39m\u001b[38;5;241m.\u001b[39mgroups,\n\u001b[1;32m    601\u001b[0m     )\n\u001b[0;32m--> 602\u001b[0m \u001b[38;5;28;01mreturn\u001b[39;00m \u001b[43mF\u001b[49m\u001b[38;5;241;43m.\u001b[39;49m\u001b[43mconv3d\u001b[49m\u001b[43m(\u001b[49m\n\u001b[1;32m    603\u001b[0m \u001b[43m    \u001b[49m\u001b[38;5;28;43minput\u001b[39;49m\u001b[43m,\u001b[49m\u001b[43m \u001b[49m\u001b[43mweight\u001b[49m\u001b[43m,\u001b[49m\u001b[43m \u001b[49m\u001b[43mbias\u001b[49m\u001b[43m,\u001b[49m\u001b[43m \u001b[49m\u001b[38;5;28;43mself\u001b[39;49m\u001b[38;5;241;43m.\u001b[39;49m\u001b[43mstride\u001b[49m\u001b[43m,\u001b[49m\u001b[43m \u001b[49m\u001b[38;5;28;43mself\u001b[39;49m\u001b[38;5;241;43m.\u001b[39;49m\u001b[43mpadding\u001b[49m\u001b[43m,\u001b[49m\u001b[43m \u001b[49m\u001b[38;5;28;43mself\u001b[39;49m\u001b[38;5;241;43m.\u001b[39;49m\u001b[43mdilation\u001b[49m\u001b[43m,\u001b[49m\u001b[43m \u001b[49m\u001b[38;5;28;43mself\u001b[39;49m\u001b[38;5;241;43m.\u001b[39;49m\u001b[43mgroups\u001b[49m\n\u001b[1;32m    604\u001b[0m \u001b[43m\u001b[49m\u001b[43m)\u001b[49m\n",
      "\u001b[0;31mKeyboardInterrupt\u001b[0m: "
     ]
    }
   ],
   "source": [
    "from proj.resblock import ResBlock\n",
    "from proj.loss_util import PerceptualLoss, edge_loss\n",
    "# train resnet\n",
    "########################################### The model with edge loss ###########################################\n",
    "import torch.optim as optim\n",
    "device = torch.device(\"cuda:0\" if torch.cuda.is_available() else \"cpu\")\n",
    "print(f\"Training on {device}\")\n",
    "# Complex model：\n",
    "model = ResBlock().to(device)\n",
    "criterion = nn.MSELoss() \n",
    "optimizer = optim.Adam(model.parameters(), weight_decay=1e-9)#较小的weight_decay效果较好\n",
    "a = 0.2\n",
    "edge_loss_start = 100 \n",
    "num_epochs = 500 \n",
    "\n",
    "PSNR=[]\n",
    "SSIM=[]\n",
    "loss_train=[]\n",
    "loss_val=[]\n",
    "\n",
    "for epoch in range(num_epochs):\n",
    "    print(f\"Epoch {epoch + 1}\")\n",
    "    running_loss = 0.0\n",
    "    loss_tmp=0.0\n",
    "    for i, data in enumerate(train, 0): \n",
    "        data[0]=data[0].reshape(5,1,20,192,192) \n",
    "        data[1]=data[1].reshape(5,1,20,192,192)\n",
    "        inputs, labels =  data[0].to(device), data[1].to(device)\n",
    "        optimizer.zero_grad() \n",
    "        outputs = model(inputs) \n",
    "        if epoch > edge_loss_start: \n",
    "            loss = criterion(outputs, labels) + a * edge_loss(outputs, labels)\n",
    "        else:\n",
    "            loss = criterion(outputs, labels)\n",
    "        loss_tmp+=loss\n",
    "        loss.backward()\n",
    "        optimizer.step()\n",
    "    # calculate train loss\n",
    "    loss_train.append(loss_tmp/len(train))\n",
    "    # calculate validation loss\n",
    "    with torch.no_grad():\n",
    "        val_loss = 0.0\n",
    "        for i, data in enumerate(val, 0):\n",
    "            data[0]=data[0].reshape(5,1,20,192,192)\n",
    "            data[1]=data[1].reshape(5,1,20,192,192)\n",
    "            inputs, labels =  data[0].to(device), data[1].to(device)\n",
    "            outputs = model(inputs)\n",
    "            val_loss +=criterion(outputs, labels).item()+1e-10\n",
    "        loss_val.append(val_loss/len(val))\n",
    "    # calculate PSNR in validation set\n",
    "    if (epoch+1) % 5 == 0:\n",
    "        with torch.no_grad():\n",
    "            val_loss = 0.0\n",
    "            for i, data in enumerate(val, 0):\n",
    "                data[0]=data[0].reshape(5,1,20,192,192)\n",
    "                data[1]=data[1].reshape(5,1,20,192,192)\n",
    "                inputs, labels =  data[0].to(device), data[1].to(device)\n",
    "                outputs = model(inputs)\n",
    "                val_loss += 20 * math.log10(1) - 10 * math.log10(criterion(outputs, labels).item()+1e-10)\n",
    "            print(f\"Validation PSNR: {val_loss / len(val)}\")\n",
    "            PSNR.append(val_loss / len(val))\n",
    "    # calculate SSIM in validation set\n",
    "        with torch.no_grad():\n",
    "            val_ssim = 0.0\n",
    "            for i, data in enumerate(val, 0):\n",
    "                data[0]=data[0].reshape(5,1,20,192,192)\n",
    "                data[1]=data[1].reshape(5,1,20,192,192)\n",
    "                inputs, labels =  data[0].to(device), data[1].to(device)\n",
    "                outputs = model(inputs)\n",
    "                for j in range(5):\n",
    "                    val_ssim += structural_similarity(outputs[j][0].cpu().numpy(), labels[j][0].cpu().numpy(),data_range=1)\n",
    "            print(f\"Validation SSIM: {val_ssim / len(val) / 5}\")\n",
    "            SSIM.append(val_ssim / len(val) / 5)\n",
    "print('Finished Training')"
   ]
  },
  {
   "cell_type": "code",
   "execution_count": 9,
   "metadata": {},
   "outputs": [
    {
     "name": "stdout",
     "output_type": "stream",
     "text": [
      "Training on cuda:0\n"
     ]
    },
    {
     "name": "stderr",
     "output_type": "stream",
     "text": [
      "/root/miniconda3/envs/torch/lib/python3.9/site-packages/torchvision/models/_utils.py:208: UserWarning: The parameter 'pretrained' is deprecated since 0.13 and will be removed in 0.15, please use 'weights' instead.\n",
      "  warnings.warn(\n",
      "/root/miniconda3/envs/torch/lib/python3.9/site-packages/torchvision/models/_utils.py:223: UserWarning: Arguments other than a weight enum or `None` for 'weights' are deprecated since 0.13 and will be removed in 0.15. The current behavior is equivalent to passing `weights=VGG16_Weights.IMAGENET1K_V1`. You can also use `weights=VGG16_Weights.DEFAULT` to get the most up-to-date weights.\n",
      "  warnings.warn(msg)\n"
     ]
    },
    {
     "name": "stdout",
     "output_type": "stream",
     "text": [
      "Epoch 1\n",
      "Epoch 2\n",
      "Epoch 3\n",
      "Epoch 4\n",
      "Epoch 5\n",
      "Validation PSNR: 25.941562104568654\n",
      "Validation SSIM: 0.710839226517007\n",
      "Epoch 6\n",
      "Epoch 7\n",
      "Epoch 8\n",
      "Epoch 9\n"
     ]
    },
    {
     "ename": "KeyboardInterrupt",
     "evalue": "",
     "output_type": "error",
     "traceback": [
      "\u001b[0;31m---------------------------------------------------------------------------\u001b[0m",
      "\u001b[0;31mKeyboardInterrupt\u001b[0m                         Traceback (most recent call last)",
      "Cell \u001b[0;32mIn[9], line 32\u001b[0m\n\u001b[1;32m     30\u001b[0m     loss \u001b[38;5;241m=\u001b[39m (\u001b[38;5;241m1\u001b[39m \u001b[38;5;241m-\u001b[39m a) \u001b[38;5;241m*\u001b[39m criterion(outputs, labels) \u001b[38;5;241m+\u001b[39m a \u001b[38;5;241m*\u001b[39m pecu\n\u001b[1;32m     31\u001b[0m     loss_tmp\u001b[38;5;241m+\u001b[39m\u001b[38;5;241m=\u001b[39mloss\n\u001b[0;32m---> 32\u001b[0m     \u001b[43mloss\u001b[49m\u001b[38;5;241;43m.\u001b[39;49m\u001b[43mbackward\u001b[49m\u001b[43m(\u001b[49m\u001b[43m)\u001b[49m\n\u001b[1;32m     33\u001b[0m     optimizer\u001b[38;5;241m.\u001b[39mstep()\n\u001b[1;32m     34\u001b[0m \u001b[38;5;66;03m# calculate train loss\u001b[39;00m\n",
      "File \u001b[0;32m~/miniconda3/envs/torch/lib/python3.9/site-packages/torch/_tensor.py:396\u001b[0m, in \u001b[0;36mTensor.backward\u001b[0;34m(self, gradient, retain_graph, create_graph, inputs)\u001b[0m\n\u001b[1;32m    387\u001b[0m \u001b[38;5;28;01mif\u001b[39;00m has_torch_function_unary(\u001b[38;5;28mself\u001b[39m):\n\u001b[1;32m    388\u001b[0m     \u001b[38;5;28;01mreturn\u001b[39;00m handle_torch_function(\n\u001b[1;32m    389\u001b[0m         Tensor\u001b[38;5;241m.\u001b[39mbackward,\n\u001b[1;32m    390\u001b[0m         (\u001b[38;5;28mself\u001b[39m,),\n\u001b[0;32m   (...)\u001b[0m\n\u001b[1;32m    394\u001b[0m         create_graph\u001b[38;5;241m=\u001b[39mcreate_graph,\n\u001b[1;32m    395\u001b[0m         inputs\u001b[38;5;241m=\u001b[39minputs)\n\u001b[0;32m--> 396\u001b[0m \u001b[43mtorch\u001b[49m\u001b[38;5;241;43m.\u001b[39;49m\u001b[43mautograd\u001b[49m\u001b[38;5;241;43m.\u001b[39;49m\u001b[43mbackward\u001b[49m\u001b[43m(\u001b[49m\u001b[38;5;28;43mself\u001b[39;49m\u001b[43m,\u001b[49m\u001b[43m \u001b[49m\u001b[43mgradient\u001b[49m\u001b[43m,\u001b[49m\u001b[43m \u001b[49m\u001b[43mretain_graph\u001b[49m\u001b[43m,\u001b[49m\u001b[43m \u001b[49m\u001b[43mcreate_graph\u001b[49m\u001b[43m,\u001b[49m\u001b[43m \u001b[49m\u001b[43minputs\u001b[49m\u001b[38;5;241;43m=\u001b[39;49m\u001b[43minputs\u001b[49m\u001b[43m)\u001b[49m\n",
      "File \u001b[0;32m~/miniconda3/envs/torch/lib/python3.9/site-packages/torch/autograd/__init__.py:173\u001b[0m, in \u001b[0;36mbackward\u001b[0;34m(tensors, grad_tensors, retain_graph, create_graph, grad_variables, inputs)\u001b[0m\n\u001b[1;32m    168\u001b[0m     retain_graph \u001b[38;5;241m=\u001b[39m create_graph\n\u001b[1;32m    170\u001b[0m \u001b[38;5;66;03m# The reason we repeat same the comment below is that\u001b[39;00m\n\u001b[1;32m    171\u001b[0m \u001b[38;5;66;03m# some Python versions print out the first line of a multi-line function\u001b[39;00m\n\u001b[1;32m    172\u001b[0m \u001b[38;5;66;03m# calls in the traceback and some print out the last line\u001b[39;00m\n\u001b[0;32m--> 173\u001b[0m \u001b[43mVariable\u001b[49m\u001b[38;5;241;43m.\u001b[39;49m\u001b[43m_execution_engine\u001b[49m\u001b[38;5;241;43m.\u001b[39;49m\u001b[43mrun_backward\u001b[49m\u001b[43m(\u001b[49m\u001b[43m  \u001b[49m\u001b[38;5;66;43;03m# Calls into the C++ engine to run the backward pass\u001b[39;49;00m\n\u001b[1;32m    174\u001b[0m \u001b[43m    \u001b[49m\u001b[43mtensors\u001b[49m\u001b[43m,\u001b[49m\u001b[43m \u001b[49m\u001b[43mgrad_tensors_\u001b[49m\u001b[43m,\u001b[49m\u001b[43m \u001b[49m\u001b[43mretain_graph\u001b[49m\u001b[43m,\u001b[49m\u001b[43m \u001b[49m\u001b[43mcreate_graph\u001b[49m\u001b[43m,\u001b[49m\u001b[43m \u001b[49m\u001b[43minputs\u001b[49m\u001b[43m,\u001b[49m\n\u001b[1;32m    175\u001b[0m \u001b[43m    \u001b[49m\u001b[43mallow_unreachable\u001b[49m\u001b[38;5;241;43m=\u001b[39;49m\u001b[38;5;28;43;01mTrue\u001b[39;49;00m\u001b[43m,\u001b[49m\u001b[43m \u001b[49m\u001b[43maccumulate_grad\u001b[49m\u001b[38;5;241;43m=\u001b[39;49m\u001b[38;5;28;43;01mTrue\u001b[39;49;00m\u001b[43m)\u001b[49m\n",
      "\u001b[0;31mKeyboardInterrupt\u001b[0m: "
     ]
    }
   ],
   "source": [
    "from proj.resblock import ResBlock\n",
    "from proj.loss_util import PerceptualLoss, edge_loss\n",
    "# train resnet\n",
    "########################################### The model with Perceptual loss ###########################################\n",
    "import torch.optim as optim\n",
    "device = torch.device(\"cuda:0\" if torch.cuda.is_available() else \"cpu\")\n",
    "print(f\"Training on {device}\")\n",
    "model = ResBlock().to(device)\n",
    "criterion = nn.MSELoss() \n",
    "optimizer = optim.Adam(model.parameters(), weight_decay=1e-9) #较小的weight_decay效果较好\n",
    "perculoss = PerceptualLoss().to(device)\n",
    "num_epochs = 500  \n",
    "a = 0.2\n",
    "PSNR=[]\n",
    "SSIM=[]\n",
    "loss_train=[]\n",
    "loss_val=[]\n",
    "\n",
    "for epoch in range(num_epochs):\n",
    "    print(f\"Epoch {epoch + 1}\")\n",
    "    running_loss = 0.0\n",
    "    loss_tmp=0.0\n",
    "    for i, data in enumerate(train, 0):\n",
    "        data[0]=data[0].reshape(5,1,20,192,192)\n",
    "        data[1]=data[1].reshape(5,1,20,192,192)\n",
    "        inputs, labels =  data[0].to(device), data[1].to(device)\n",
    "        optimizer.zero_grad()\n",
    "        outputs = model(inputs)\n",
    "        pecu = perculoss(outputs, labels)/(5*20*192*192)\n",
    "        loss = (1 - a) * criterion(outputs, labels) + a * pecu\n",
    "        loss_tmp+=loss\n",
    "        loss.backward()\n",
    "        optimizer.step()\n",
    "    # calculate train loss\n",
    "    loss_train.append(loss_tmp/len(train))\n",
    "    # calculate validation loss\n",
    "    with torch.no_grad():\n",
    "        val_loss = 0.0\n",
    "        for i, data in enumerate(val, 0):\n",
    "            data[0]=data[0].reshape(5,1,20,192,192)\n",
    "            data[1]=data[1].reshape(5,1,20,192,192)\n",
    "            inputs, labels =  data[0].to(device), data[1].to(device)\n",
    "            outputs = model(inputs)\n",
    "            val_loss +=criterion(outputs, labels).item()+1e-10\n",
    "        loss_val.append(val_loss/len(val))\n",
    "    # calculate PSNR in validation set\n",
    "    if (epoch+1) % 5 == 0:\n",
    "        with torch.no_grad():\n",
    "            val_loss = 0.0\n",
    "            for i, data in enumerate(val, 0):\n",
    "                data[0]=data[0].reshape(5,1,20,192,192)\n",
    "                data[1]=data[1].reshape(5,1,20,192,192)\n",
    "                inputs, labels =  data[0].to(device), data[1].to(device)\n",
    "                outputs = model(inputs)\n",
    "                val_loss += 20 * math.log10(1) - 10 * math.log10(criterion(outputs, labels).item()+1e-10)\n",
    "            print(f\"Validation PSNR: {val_loss / len(val)}\")\n",
    "            PSNR.append(val_loss / len(val))\n",
    "    # calculate SSIM in validation set\n",
    "        with torch.no_grad():\n",
    "            val_ssim = 0.0\n",
    "            for i, data in enumerate(val, 0):\n",
    "                data[0]=data[0].reshape(5,1,20,192,192)\n",
    "                data[1]=data[1].reshape(5,1,20,192,192)\n",
    "                inputs, labels =  data[0].to(device), data[1].to(device)\n",
    "                outputs = model(inputs)\n",
    "                for j in range(5):\n",
    "                    val_ssim += structural_similarity(outputs[j][0].cpu().numpy(), labels[j][0].cpu().numpy(),data_range=1)\n",
    "            print(f\"Validation SSIM: {val_ssim / len(val) / 5}\")\n",
    "            SSIM.append(val_ssim / len(val) / 5)\n",
    "print('Finished Training')"
   ]
  },
  {
   "cell_type": "code",
   "execution_count": null,
   "metadata": {},
   "outputs": [],
   "source": [
    "# save model and data\n",
    "name=\"resblock_32conv_noupdown_add_loss_500epoch\"\n",
    "problem=\"problem2\"\n",
    "torch.save(model,f\".\\\\data\\\\{problem}\\\\{name}.pth\")\n",
    "PSNR=torch.tensor(PSNR)\n",
    "torch.save(PSNR,f\".\\\\data\\\\{problem}\\\\{name}_PSNR.pth\")\n",
    "SSIM=torch.tensor(SSIM)\n",
    "torch.save(SSIM,f\".\\\\data\\\\{problem}\\\\{name}_SSIM.pth\")\n",
    "loss_val=torch.tensor(loss_val)\n",
    "torch.save(loss_val,f\".\\\\data\\\\{problem}\\\\{name}_loss_val.pth\")\n",
    "loss_train=torch.tensor(loss_train)\n",
    "torch.save(loss_train,f\".\\\\data\\\\{problem}\\\\{name}_loss_train.pth\")"
   ]
  },
  {
   "cell_type": "code",
   "execution_count": null,
   "metadata": {},
   "outputs": [],
   "source": [
    "# show the first data\n",
    "inputs, labels = test_data[0], test_label[0]\n",
    "inputs=inputs.reshape(1,1,20,192,192)\n",
    "labels=labels.reshape(1,1,20,192,192)\n",
    "outputs = model(inputs.to(device))\n",
    "outputs = outputs.cpu().detach().numpy()\n",
    "outputs = outputs.reshape(1,20,192,192)\n",
    "print(outputs[0][0].shape)\n",
    "imsshow (inputs[0].reshape(20,192,192),num_col=5,cmap='gray', is_colorbar=True,titles=[\"input\"]*20)\n",
    "imsshow(outputs[0],num_col=5,cmap='gray', is_colorbar=True,titles=[\"output\"]*20)\n",
    "imsshow(labels[0].reshape(20,192,192),num_col=5,cmap='gray', is_colorbar=True,titles=[\"label\"]*20)"
   ]
  }
 ],
 "metadata": {
  "kernelspec": {
   "display_name": "Python 3",
   "language": "python",
   "name": "python3"
  },
  "language_info": {
   "codemirror_mode": {
    "name": "ipython",
    "version": 3
   },
   "file_extension": ".py",
   "mimetype": "text/x-python",
   "name": "python",
   "nbconvert_exporter": "python",
   "pygments_lexer": "ipython3",
   "version": "3.9.18"
  }
 },
 "nbformat": 4,
 "nbformat_minor": 2
}
